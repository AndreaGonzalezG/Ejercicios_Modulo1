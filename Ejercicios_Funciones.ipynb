{
 "cells": [
  {
   "cell_type": "markdown",
   "metadata": {},
   "source": [
    "# Ejercicios\n",
    "\n",
    "1. Escribe una función que reciba una cadena de texto como parámetro y devuelva un diccionario con las frecuencias de cada letra en la cadena. Los espacios no deben ser considerados. "
   ]
  },
  {
   "cell_type": "code",
   "execution_count": 43,
   "metadata": {},
   "outputs": [
    {
     "name": "stdout",
     "output_type": "stream",
     "text": [
      "{'h': 1, 'o': 3, 'y': 1, 'e': 1, 's': 1, 'd': 1, 'm': 1, 'i': 1, 'n': 1, 'g': 1}\n"
     ]
    }
   ],
   "source": [
    "\n",
    "\n",
    "def diccionario (cadena_texto): \n",
    "\n",
    "    # 1. convertir la cadena en lista quitando espacios\n",
    "    cadena_lista= cadena_texto.replace(' ','')\n",
    "    \n",
    "    frecuencias={}\n",
    "\n",
    "    for letra in cadena_lista:\n",
    "        if letra in frecuencias:\n",
    "            frecuencias[letra] += 1\n",
    "        else:\n",
    "            frecuencias[letra]=1\n",
    "    \n",
    "    return frecuencias\n",
    "\n",
    "\n",
    "cadena_texto = 'hoy es domingo'\n",
    "cadena = diccionario(cadena_texto)\n",
    "print(cadena)\n",
    "\n"
   ]
  },
  {
   "cell_type": "markdown",
   "metadata": {},
   "source": [
    "SOLUCION EN CLASE"
   ]
  },
  {
   "cell_type": "code",
   "execution_count": 21,
   "metadata": {},
   "outputs": [
    {
     "ename": "KeyError",
     "evalue": "'a'",
     "output_type": "error",
     "traceback": [
      "\u001b[0;31m---------------------------------------------------------------------------\u001b[0m",
      "\u001b[0;31mKeyError\u001b[0m                                  Traceback (most recent call last)",
      "Cell \u001b[0;32mIn[21], line 16\u001b[0m\n\u001b[1;32m     12\u001b[0m     \u001b[38;5;28;01mreturn\u001b[39;00m frecuencia_por_letra\n\u001b[1;32m     14\u001b[0m texto_usuario\u001b[38;5;241m=\u001b[39m \u001b[38;5;28minput\u001b[39m(\u001b[38;5;124m'\u001b[39m\u001b[38;5;124m Introduce el texto\u001b[39m\u001b[38;5;124m'\u001b[39m)\n\u001b[0;32m---> 16\u001b[0m frecuencia_texto\u001b[38;5;241m=\u001b[39m calculo_frecuencia(texto_usuario)\n\u001b[1;32m     18\u001b[0m \u001b[38;5;28mprint\u001b[39m (\u001b[38;5;124mf\u001b[39m\u001b[38;5;124m\"\u001b[39m\u001b[38;5;124mLa frecuencia del texto es \u001b[39m\u001b[38;5;124m'\u001b[39m\u001b[38;5;132;01m{\u001b[39;00mfrecuencia_texto\u001b[38;5;132;01m}\u001b[39;00m\u001b[38;5;124m'\u001b[39m\u001b[38;5;124m: \u001b[39m\u001b[38;5;124m\"\u001b[39m)\n\u001b[1;32m     19\u001b[0m \u001b[38;5;28;01mfor\u001b[39;00m letra \u001b[38;5;129;01min\u001b[39;00m frecuencia_texto:\n",
      "Cell \u001b[0;32mIn[21], line 8\u001b[0m, in \u001b[0;36mcalculo_frecuencia\u001b[0;34m(cadena)\u001b[0m\n\u001b[1;32m      6\u001b[0m \u001b[38;5;28;01mif\u001b[39;00m letra \u001b[38;5;241m!=\u001b[39m \u001b[38;5;124m'\u001b[39m\u001b[38;5;124m'\u001b[39m:\n\u001b[1;32m      7\u001b[0m     letra \u001b[38;5;129;01min\u001b[39;00m frecuencia_por_letra\n\u001b[0;32m----> 8\u001b[0m     frecuencia_por_letra[letra] \u001b[38;5;241m+\u001b[39m\u001b[38;5;241m=\u001b[39m\u001b[38;5;241m1\u001b[39m\n\u001b[1;32m      9\u001b[0m \u001b[38;5;28;01melse\u001b[39;00m:\n\u001b[1;32m     10\u001b[0m     frecuencia_por_letra[letra]\u001b[38;5;241m=\u001b[39m\u001b[38;5;241m1\u001b[39m\n",
      "\u001b[0;31mKeyError\u001b[0m: 'a'"
     ]
    }
   ],
   "source": [
    "def calculo_frecuencia (cadena):\n",
    "    frecuencia_por_letra = {}\n",
    "\n",
    "    # Necesito iterar, la mejor forma de hacerlo es con un for \n",
    "    for letra in cadena:\n",
    "        if letra != '':\n",
    "\n",
    "            if letra in frecuencia_por_letra: \n",
    "                frecuencia_por_letra[letra] +=1\n",
    "        else:\n",
    "            frecuencia_por_letra[letra]=1\n",
    "\n",
    "    return frecuencia_por_letra\n",
    "\n",
    "texto_usuario= input(' Introduce el texto')\n",
    "\n",
    "frecuencia_texto= calculo_frecuencia(texto_usuario)\n",
    "\n",
    "print (f\"La frecuencia del texto es '{frecuencia_texto}': \")\n",
    "for letra in frecuencia_texto:\n",
    "\n",
    "    print( f\"'Frecuencias de '{letra}'en '{frecuencia_texto}'\" )\n",
    "\n"
   ]
  },
  {
   "cell_type": "markdown",
   "metadata": {},
   "source": [
    "2. Escribe una función que reciba una cadena de texto como parámetro y devuelva una lista con todas las palabras que tienen más de 5 letras."
   ]
  },
  {
   "cell_type": "code",
   "execution_count": 40,
   "metadata": {},
   "outputs": [
    {
     "name": "stdout",
     "output_type": "stream",
     "text": [
      "['intentando', 'aprender']\n"
     ]
    }
   ],
   "source": [
    "\n",
    "\n",
    "def lista (cadena_texto): \n",
    "    cadena_lista= cadena_texto.split()\n",
    "\n",
    "    palabras5=[]\n",
    "\n",
    "    for palabra in cadena_lista:\n",
    "        if len (palabra)> 5:\n",
    "            palabras5.append(palabra)\n",
    "        else:\n",
    "            pass\n",
    "    \n",
    "    return palabras5\n",
    "\n",
    "\n",
    "\n",
    "texto= 'estoy intentando aprender'\n",
    "\n",
    "palabras_mas_5 = lista(texto) \n",
    "\n",
    "print(palabras_mas_5)"
   ]
  },
  {
   "cell_type": "code",
   "execution_count": 16,
   "metadata": {},
   "outputs": [
    {
     "name": "stdout",
     "output_type": "stream",
     "text": [
      " Palabras con mas de 5 caracteres: '['entendiendo', 'muchisimo']'\n"
     ]
    }
   ],
   "source": [
    "def extraerpalabras (cadena):\n",
    "    # quiero la division para poder acceder a cada palabra, y se conviertan en elemento\n",
    "    palabras= cadena.split()\n",
    "    palabras_largas= []\n",
    "\n",
    "    for palabra in palabras:\n",
    "        if len(palabra) >5:\n",
    "            palabras_largas.append(palabra)\n",
    "    return palabras_largas\n",
    "\n",
    "texto_usuario= input(' Introduce tu frase' )\n",
    "\n",
    "resultado_palabras_largas= extraerpalabras(texto_usuario)\n",
    "\n",
    "print(f\" Palabras con mas de 5 caracteres: '{resultado_palabras_largas}'\")\n",
    "        "
   ]
  },
  {
   "cell_type": "markdown",
   "metadata": {},
   "source": [
    "\n",
    "3. Crea una función que tome una lista de palabras como entrada y devuelva una lista de palabras que contengan más de una vocal."
   ]
  },
  {
   "cell_type": "code",
   "execution_count": 20,
   "metadata": {},
   "outputs": [
    {
     "name": "stdout",
     "output_type": "stream",
     "text": [
      "['arroz', 'amor', 'local']\n"
     ]
    }
   ],
   "source": [
    "def lista_palabras (lista): \n",
    "    \n",
    "    palabras_vocal=[]\n",
    "    vocal= 'aeiou'\n",
    "\n",
    "    for palabra in lista:\n",
    "        contadorvocales= sum(1 for letra in palabra if letra in vocal)\n",
    "\n",
    "        if contadorvocales > 1: \n",
    "           palabras_vocal.append(palabra)\n",
    "\n",
    "        else:\n",
    "            pass\n",
    "    \n",
    "    return palabras_vocal\n",
    "\n",
    "\n",
    "lista1= ['arroz', 'amor','local', 'mas', 'ni', 'lll']\n",
    "\n",
    "palabras_con_vocal = lista_palabras(lista1) \n",
    "\n",
    "print(palabras_con_vocal)"
   ]
  },
  {
   "cell_type": "markdown",
   "metadata": {},
   "source": [
    "SOLUCION EN CLASE"
   ]
  },
  {
   "cell_type": "code",
   "execution_count": 27,
   "metadata": {},
   "outputs": [
    {
     "name": "stdout",
     "output_type": "stream",
     "text": [
      "Palabras con mas de una vocal: ['casa']\n"
     ]
    }
   ],
   "source": [
    "def palabras_vocales (lista_palabras ):\n",
    "    # Set no se duplica, cuando tenemos operaciones rapidas y no tenemos que indexar trabajamos con set\n",
    "    conjunto_vocales= set('aeiouAEIOU')\n",
    "    palabras_dosvocales = []\n",
    "\n",
    "    for palabra in lista_palabras:\n",
    "        contador=0\n",
    "        for letra in palabra:\n",
    "            if letra in conjunto_vocales:\n",
    "                contador +=1\n",
    "        if contador > 1:\n",
    "            palabras_dosvocales.append(palabra)\n",
    "\n",
    "    return palabras_dosvocales\n",
    "\n",
    "\n",
    "Lista=['casa', 'sol', 'luz']\n",
    "Lista_palabras_convocales = palabras_vocales(Lista)\n",
    "\n",
    "print('Palabras con mas de una vocal:',Lista_palabras_convocales)"
   ]
  },
  {
   "cell_type": "markdown",
   "metadata": {},
   "source": [
    "\n",
    "4. Crea una función que tome una lista de números y calcule la suma de todos los números pares en la lista."
   ]
  },
  {
   "cell_type": "code",
   "execution_count": 22,
   "metadata": {},
   "outputs": [
    {
     "name": "stdout",
     "output_type": "stream",
     "text": [
      "18\n"
     ]
    }
   ],
   "source": [
    "\n",
    "def sumapares (lista):\n",
    "    for num in Lista_numeros:\n",
    "        if num % 2 == 0:\n",
    "            lista_pares.append(num)\n",
    "            suma=sum(lista_pares)\n",
    "            \n",
    "\n",
    "    return suma\n",
    "\n",
    "lista_pares=[]\n",
    "Lista_numeros = [3,10,7,2,6]\n",
    "\n",
    "suma_pares=sumapares(Lista_numeros)\n",
    "print (suma_pares)\n",
    "\n"
   ]
  },
  {
   "cell_type": "markdown",
   "metadata": {},
   "source": [
    "SOLUCION CLASE"
   ]
  },
  {
   "cell_type": "code",
   "execution_count": 30,
   "metadata": {},
   "outputs": [
    {
     "name": "stdout",
     "output_type": "stream",
     "text": [
      " suma de pares es: \"18\"\n"
     ]
    }
   ],
   "source": [
    "def suma_numeros_pares (lista_numeros):\n",
    "    suma=0\n",
    "\n",
    "    for numero in lista_numeros:\n",
    "        if numero % 2==0:\n",
    "            suma +=numero\n",
    " \n",
    "    return suma \n",
    "\n",
    "Lista_numero=[3,10,7,2,6]\n",
    "resultado_suma_pares= suma_numeros_pares (Lista_numero)\n",
    "\n",
    "print(f' suma de pares es: \"{resultado_suma_pares}\"')"
   ]
  },
  {
   "cell_type": "markdown",
   "metadata": {},
   "source": [
    "5. Escribe una función que tome una lista de números como entrada y calcule el promedio de esos números."
   ]
  },
  {
   "cell_type": "code",
   "execution_count": 40,
   "metadata": {},
   "outputs": [
    {
     "name": "stdout",
     "output_type": "stream",
     "text": [
      "5.6\n"
     ]
    }
   ],
   "source": [
    "\n",
    "def promedio (lista):\n",
    "    \n",
    "    promedio = sum(lista)/ len(lista)\n",
    "\n",
    "    return promedio\n",
    "\n",
    "\n",
    "lista_numeros= [3,10,7,2,6]\n",
    "promedio_lista =  promedio(lista_numeros)\n",
    "print (promedio_lista)"
   ]
  },
  {
   "cell_type": "markdown",
   "metadata": {},
   "source": [
    "SOLUCION CLASE"
   ]
  },
  {
   "cell_type": "code",
   "execution_count": 34,
   "metadata": {},
   "outputs": [
    {
     "name": "stdout",
     "output_type": "stream",
     "text": [
      "el promedio de la lista \"5.6\"\n"
     ]
    }
   ],
   "source": [
    "def promedio (lista_numeros):\n",
    "    if len (lista_numeros) == 0:\n",
    "        return None\n",
    "    \n",
    "    sumatotal= sum(lista_numeros)\n",
    "    cantidad_numeros= len (lista_numeros)\n",
    "\n",
    "    promedio= sumatotal/cantidad_numeros\n",
    "\n",
    "    return promedio \n",
    "\n",
    "lista_numeros1= [3,10,7,2,6]\n",
    "promedio_lista1 = promedio(lista_numeros1)\n",
    "print (f'el promedio de la lista \"{promedio_lista1}\"')"
   ]
  },
  {
   "cell_type": "markdown",
   "metadata": {},
   "source": [
    "6. Crea una función que determine el próximo año en el que las cifras del año de tu cumpleaños no se repitan. La función toma un año de tu cumpleaños como entrada y calcula el próximo año en el que las cifras no se repitan, es decir, todas las cifras en el año son diferentes entre sí."
   ]
  },
  {
   "cell_type": "code",
   "execution_count": null,
   "metadata": {},
   "outputs": [],
   "source": []
  },
  {
   "cell_type": "markdown",
   "metadata": {},
   "source": [
    "7. Crea una función que determine cuántos pasteles puedes hornear según una receta y los ingredientes disponibles. La función toma dos diccionarios como entrada: receta, que contiene los ingredientes necesarios para un pastel, y disponible, que contiene la cantidad disponible de cada ingrediente. Sus parámetros de entrada son: \n",
    "\n",
    "    - receta: Un diccionario que representa los ingredientes necesarios para un pastel, donde las claves son los nombres de los ingredientes y los valores son las cantidades necesarias de cada ingrediente.\n",
    "\n",
    "    - disponible: Un diccionario que representa la cantidad disponible de cada ingrediente, donde las claves son los nombres de los ingredientes y los valores son las cantidades disponibles.\n",
    "\n",
    "    ```python\n",
    "    receta1 = {'flour': 500, 'sugar': 200, 'eggs': 1}\n",
    "    ingredientes1 = {'flour': 1200, 'sugar': 1200, 'eggs': 5, 'milk': 200}\n",
    "\n",
    "    pasteles(receta1, ingredientes1)    \n",
    "    # output: con estos ingredientes solo puedo hacer 2 bizcochos\n",
    "    ```"
   ]
  },
  {
   "cell_type": "code",
   "execution_count": 93,
   "metadata": {},
   "outputs": [
    {
     "name": "stdout",
     "output_type": "stream",
     "text": [
      "2\n"
     ]
    }
   ],
   "source": [
    "receta1 = {'flour': 500, 'sugar': 200, 'eggs': 1}\n",
    "ingredientes1 = {'flour': 1200, 'sugar': 1200, 'eggs': 5, 'milk': 200}\n",
    "\n",
    "\n",
    "def cantidadpasteles (ingredientes,receta):\n",
    "  contadorveces=0\n",
    " \n",
    "  while True: \n",
    "    \n",
    "    \n",
    "    resta_ing1= ingredientes['flour']- receta['flour']\n",
    "    resta_ing2= ingredientes['sugar']- receta['sugar']\n",
    "    resta_ing3= ingredientes['eggs']- receta['eggs']\n",
    "    ingredientes['flour'] = resta_ing1\n",
    "    ingredientes['sugar'] = resta_ing2\n",
    "    ingredientes ['eggs']=resta_ing3\n",
    "    \n",
    "    if resta_ing1 >= 0 and  resta_ing2 >= 0 and resta_ing3 >= 0: \n",
    "      contadorveces +=1\n",
    "    else: \n",
    "      break\n",
    "  \n",
    "  return contadorveces\n",
    "\n",
    "\n",
    "cantidad=cantidadpasteles(ingredientes1,receta1)\n",
    "\n",
    "print(cantidad)\n",
    "\n",
    "\n",
    "\n",
    "\n"
   ]
  }
 ],
 "metadata": {
  "kernelspec": {
   "display_name": "base",
   "language": "python",
   "name": "python3"
  },
  "language_info": {
   "codemirror_mode": {
    "name": "ipython",
    "version": 3
   },
   "file_extension": ".py",
   "mimetype": "text/x-python",
   "name": "python",
   "nbconvert_exporter": "python",
   "pygments_lexer": "ipython3",
   "version": "3.12.4"
  }
 },
 "nbformat": 4,
 "nbformat_minor": 2
}
