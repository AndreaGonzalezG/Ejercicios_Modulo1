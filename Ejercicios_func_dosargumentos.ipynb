{
 "cells": [
  {
   "cell_type": "markdown",
   "metadata": {},
   "source": [
    "----------------------------\n",
    "# Ejercicios FUNCIONES 2 ARGUMENTOS"
   ]
  },
  {
   "cell_type": "markdown",
   "metadata": {},
   "source": [
    "\n",
    "1. Crea una función que tome un número arbitrario de cadenas de texto como argumentos y devuelva una cadena de texto que sea la concatenación de todas ellas. "
   ]
  },
  {
   "cell_type": "code",
   "execution_count": 8,
   "metadata": {},
   "outputs": [
    {
     "name": "stdout",
     "output_type": "stream",
     "text": [
      "Te estabamos esperando: ('andrea',), bienvenida\n"
     ]
    }
   ],
   "source": [
    "# definimos la función. \n",
    "\n",
    "def frase (dia, mensaje = \"estas a mitad de semana\"):\n",
    "    frase = f'Hoy es: {dia}, {mensaje}'\n",
    "    return frase\n",
    "\n",
    "# llamammos a la función, y le pasaremos solo un argumento, el del nombre. Si nos fijamos, no le estamos pasando el argumento que tenemos por defecto. \n",
    "frase1 = frase('miercoles')\n",
    "print(frase1)"
   ]
  },
  {
   "cell_type": "markdown",
   "metadata": {},
   "source": [
    "2. Crea una función que tome un número arbitrario de argumentos y devuelva el producto de todos ellos.\n"
   ]
  },
  {
   "cell_type": "code",
   "execution_count": 9,
   "metadata": {},
   "outputs": [
    {
     "name": "stdout",
     "output_type": "stream",
     "text": [
      "45\n"
     ]
    }
   ],
   "source": [
    " # definimos la función. \n",
    "\n",
    "def producto (num1, num2,num3):\n",
    "    multiplicacion=num1* num2* num3\n",
    "    return multiplicacion\n",
    "# llamammos a la función, y le pasaremos solo un argumento, el del nombre. Si nos fijamos, no le estamos pasando el argumento que tenemos por defecto. \n",
    "producto1 = producto(3,5,3)\n",
    "print(producto1)"
   ]
  },
  {
   "cell_type": "markdown",
   "metadata": {},
   "source": [
    "3. Crea una función que tome un número arbitrario de diccionarios como argumentos y devuelva el valor mínimo entre todos los valores de los diccionarios.\n"
   ]
  },
  {
   "cell_type": "code",
   "execution_count": 27,
   "metadata": {},
   "outputs": [
    {
     "name": "stdout",
     "output_type": "stream",
     "text": [
      "5\n"
     ]
    }
   ],
   "source": [
    "examen1 = {\"notas\":[7,8,5,10]}\n",
    "\n",
    "\n",
    "def valorminimo (**kwards):\n",
    "    minimo= min(kwards[\"notas\"])\n",
    "    \n",
    "    return minimo\n",
    "\n",
    "valorminimo1 = valorminimo(**examen1)\n",
    "\n",
    "print (valorminimo1)"
   ]
  },
  {
   "cell_type": "markdown",
   "metadata": {},
   "source": [
    "\n",
    "4. Crea una función que tome un número arbitrario de listas y devuelva un diccionario donde las listas originales se combinan usando los índices como claves."
   ]
  },
  {
   "cell_type": "code",
   "execution_count": 46,
   "metadata": {},
   "outputs": [
    {
     "name": "stdout",
     "output_type": "stream",
     "text": [
      "[{'m': 23}, {'s': 4}, {'l': 55}, {'xl': 34}]\n"
     ]
    }
   ],
   "source": [
    "talla1=['m','s','l','xl']\n",
    "cantidad=[23,4,55,34]\n",
    "\n",
    "talla_diccionario=[] \n",
    "\n",
    "\n",
    "def dictallas (k,v):\n",
    "    contador=0\n",
    "\n",
    "    while contador <len(k):\n",
    "       \n",
    "        diccionario={k[contador]:v[contador]}\n",
    "        talla_diccionario.append(diccionario)\n",
    "        contador+=1\n",
    "    return talla_diccionario\n",
    "\n",
    "nuevodiccionario= dictallas (talla1,cantidad)\n",
    "\n",
    "print( nuevodiccionario)"
   ]
  },
  {
   "cell_type": "markdown",
   "metadata": {},
   "source": [
    "5. Crea una función que tome el tipo de figura geométrica (por ejemplo, \"cuadrado\", \"triángulo\", \"círculo\") como argumento de palabra clave y los argumentos necesarios para calcular el área de esa figura. La función debe devolver el área calculada. Soluciona este ejercicio con *kwargs* Por ejemplo: \n",
    "\n",
    "    ```python\n",
    "    # esta función calcula el area de un cuadrado, para hacerlo solo necesitamos saber su lado  \n",
    "    area_figura(tipo=\"cuadrado\", lado=5)\n",
    "\n",
    "    # si quisieramos calcular la de un triángulo necesitaríamos su base y su altura, y si quisieramos calcular de un círculo necesitaríamos su radio. \n",
    "    ```"
   ]
  },
  {
   "cell_type": "code",
   "execution_count": null,
   "metadata": {},
   "outputs": [],
   "source": []
  },
  {
   "cell_type": "code",
   "execution_count": null,
   "metadata": {},
   "outputs": [],
   "source": []
  }
 ],
 "metadata": {
  "kernelspec": {
   "display_name": "base",
   "language": "python",
   "name": "python3"
  },
  "language_info": {
   "codemirror_mode": {
    "name": "ipython",
    "version": 3
   },
   "file_extension": ".py",
   "mimetype": "text/x-python",
   "name": "python",
   "nbconvert_exporter": "python",
   "pygments_lexer": "ipython3",
   "version": "3.12.4"
  }
 },
 "nbformat": 4,
 "nbformat_minor": 2
}
