{
 "cells": [
  {
   "cell_type": "markdown",
   "metadata": {},
   "source": [
    "------------------------\n",
    "# Ejercicios \n",
    "\n",
    "Crea una clase llamada `Vehiculo` que representa un vehículo genérico. Esta clase tiene la capacidad de realizar acciones relacionadas con el vehículo, como encenderlo, apagarlo, acelerar, frenar y detenerlo gradualmente. Cada método en la clase tiene una descripción específica de su función. A continuación, se detallan los aspectos clave de esta clase:\n",
    "\n",
    "- **Atributos:**\n",
    "\n",
    "    - `marca`: Una cadena que representa la marca del vehículo.\n",
    "\n",
    "    - `modelo`: Una cadena que representa el modelo del vehículo.\n",
    "\n",
    "    - `año`: Un número entero que representa el año de fabricación del vehículo.\n",
    "\n",
    "    - `velocidad_actual`: Un número entero que representa la velocidad actual del vehículo en km/h.\n",
    "\n",
    "    - `encendido`: Un valor booleano que indica si el vehículo está encendido (`True`) o apagado (`False`).\n",
    "\n",
    "- **Métodos:**\n",
    "\n",
    "    -  `__init__(self, marca, modelo, año)`: El constructor de la clase que inicializa los atributos del vehículo, incluyendo la marca, el modelo, el año, la velocidad actual (inicialmente 0) y el estado del encendido (inicialmente apagado).\n",
    "\n",
    "    - `informacion(self)`: Un método que devuelve una cadena de texto con la información básica del vehículo, incluyendo la marca, el modelo y el año.\n",
    "\n",
    "    - `encender(self)`: Un método que enciende el vehículo si está apagado y devuelve un mensaje de confirmación. Si el vehículo ya está encendido, devuelve un mensaje indicando que ya está en funcionamiento.\n",
    "\n",
    "    - `apagar(self)`: Un método que apaga el vehículo si está encendido, establece la velocidad actual en 0 y devuelve un mensaje de confirmación. Si el vehículo ya está apagado, devuelve un mensaje indicando que ya está apagado.\n",
    "\n",
    "    - `acelerar(self, velocidad)`: Un método que aumenta la velocidad actual del vehículo según la cantidad de velocidad proporcionada como argumento. Si el vehículo está encendido, aumenta la velocidad y devuelve un mensaje con la nueva velocidad actual. Si el vehículo está apagado, devuelve un mensaje indicando que no se puede acelerar.\n",
    "\n",
    "    - `frenar(self, velocidad)`: Un método que reduce la velocidad actual del vehículo según la cantidad de velocidad proporcionada como argumento. Si el vehículo está encendido, reduce la velocidad y devuelve un mensaje con la nueva velocidad actual. Si el vehículo está apagado, devuelve un mensaje indicando que no se puede frenar.\n",
    "\n",
    "    - `detener(self)`: Un método que detiene gradualmente el vehículo reduciendo la velocidad en incrementos de 5 km/h hasta que alcance una velocidad de 0 km/h. Si el vehículo está encendido, detiene el vehículo y devuelve un mensaje de confirmación. Si el vehículo está apagado, devuelve un mensaje indicando que no se puede detener.\n",
    "\n",
    "\n",
    "Crea la subclase Coche que hereda de la clase base Vehiculo y representa un coche específico. Además de los atributos y métodos heredados, la clase Coche tiene un atributo adicional:\n",
    "\n",
    "\n",
    "- **Atributos:**\n",
    "    - combustible: Una cadena que representa el tipo de combustible que utiliza el coche.\n",
    "\n",
    "- **Métodos:**\n",
    "\n",
    "    - `__init__(self, marca, modelo, año, combustible)`: Constructor que inicializa los atributos de la clase base y el atributo específico del coche.\n",
    "    \n",
    "    - `informacion(self)`: Devuelve una cadena con la información del coche, incluyendo la marca, el modelo, el año y el tipo de combustible.\n",
    "\n"
   ]
  },
  {
   "cell_type": "code",
   "execution_count": 140,
   "metadata": {},
   "outputs": [],
   "source": [
    "class Vehiculo:\n",
    "    pass"
   ]
  },
  {
   "cell_type": "code",
   "execution_count": 141,
   "metadata": {},
   "outputs": [],
   "source": [
    "vehiculo_generico = Vehiculo ()"
   ]
  },
  {
   "cell_type": "code",
   "execution_count": 215,
   "metadata": {},
   "outputs": [],
   "source": [
    "class Vehiculo:\n",
    "\n",
    "    def __init__(self,marca,modelo,año):\n",
    "\n",
    "        #atributo 1\n",
    "        self.marca = marca\n",
    "        \n",
    "\n",
    "         #atributo 2\n",
    "        self.modelo = modelo\n",
    "        \n",
    "\n",
    "         #atributo 3\n",
    "        self.año = año\n",
    "        \n",
    "        \n",
    "         #atributo 4\n",
    "        self.velocidad_actual = 0\n",
    "        \n",
    "         #atributo 5\n",
    "        self.encendido = False\n",
    "    \n",
    "    def informacion(self):\n",
    "        return f\"La marca del vehiculo es {self.marca}  El modelo del vehiculo es {self.modelo} . El año del vehiculo es {self.año}\"\n",
    "\n",
    "    def encender(self):\n",
    "         if self.encendido == False : \n",
    "            self.encendido = True\n",
    "            return 'Tu vehiculo ya esta encendido'\n",
    "         else: \n",
    "            return ' Tu vehiculo ya esta en funcionamiento'\n",
    "         \n",
    "    def apagar(self):\n",
    "        if self.encendido == True:\n",
    "            self.encendido = False\n",
    "            self.velocidad_actual=0\n",
    "            return f'Tu vehículo ya ha sido apagado'\n",
    "        \n",
    "\n",
    "    def acelerar(self,velocidad):\n",
    "        self.velocidad = velocidad\n",
    "        \n",
    "        if self.encendido == True:\n",
    "           self.velocidad_actual += self.velocidad\n",
    "\n",
    "           return f'Tu vehiculo va a {self.velocidad_actual} km/h'\n",
    "        \n",
    "        else:\n",
    "            return 'Tu vehiculo se encuentra apagado, por lo que no se puede acelerar. Primero debes encenderlo'\n",
    "        \n",
    "    def frenar (self,velocidad): \n",
    "\n",
    "        if self.encendido == True:\n",
    "            \n",
    "            self.velocidad_actual = self.velocidad_actual-velocidad\n",
    "            return f'Tu nueva velocidad es: {self.velocidad_actual} km/h'\n",
    "        else:\n",
    "            return 'Tu vehiculo no se puede frenar, ya que se encuentra apagado.Primero debes encender tu vehiculo'\n",
    "\n",
    "    def detener (self): \n",
    "\n",
    "        if self.encendido:\n",
    "         \n",
    "            while self.velocidad_actual > 0: \n",
    "                self.velocidad_actual= max(0,self.velocidad_actual-5) \n",
    "                print (f'Tu velocidad ha disminuido en {self.velocidad_actual}')\n",
    "\n",
    "            \n",
    "            return f'Tu velocidad actual es {self.velocidad_actual}'\n",
    "                \n",
    "        else:\n",
    "            return \"Tu vehiculo no se puede detener, ya que se encuentra apagado.Primero debes encender tu vehiculo\"\n",
    "            \n",
    "        \n",
    "        \n",
    "        \n",
    "\n",
    "\n"
   ]
  },
  {
   "cell_type": "code",
   "execution_count": 143,
   "metadata": {},
   "outputs": [],
   "source": [
    "# Atributos iniciales del vehículo\n",
    "\n",
    "vehiculo_generico = Vehiculo('Subaru','Forester',2020)"
   ]
  },
  {
   "cell_type": "code",
   "execution_count": 186,
   "metadata": {},
   "outputs": [
    {
     "data": {
      "text/plain": [
       "'Tu vehiculo ya esta encendido'"
      ]
     },
     "execution_count": 186,
     "metadata": {},
     "output_type": "execute_result"
    }
   ],
   "source": [
    "vehiculo_generico.encender()"
   ]
  },
  {
   "cell_type": "code",
   "execution_count": 216,
   "metadata": {},
   "outputs": [
    {
     "name": "stdout",
     "output_type": "stream",
     "text": [
      "La marca del vehiculo es Subaru  El modelo del vehiculo es Forester . El año del vehiculo es 2020\n",
      "Tu vehiculo ya esta encendido\n",
      "Tu vehiculo va a 100 km/h\n",
      "Tu nueva velocidad es: 70 km/h\n",
      "Tu velocidad ha disminuido en 65\n",
      "Tu velocidad ha disminuido en 60\n",
      "Tu velocidad ha disminuido en 55\n",
      "Tu velocidad ha disminuido en 50\n",
      "Tu velocidad ha disminuido en 45\n",
      "Tu velocidad ha disminuido en 40\n",
      "Tu velocidad ha disminuido en 35\n",
      "Tu velocidad ha disminuido en 30\n",
      "Tu velocidad ha disminuido en 25\n",
      "Tu velocidad ha disminuido en 20\n",
      "Tu velocidad ha disminuido en 15\n",
      "Tu velocidad ha disminuido en 10\n",
      "Tu velocidad ha disminuido en 5\n",
      "Tu velocidad ha disminuido en 0\n",
      "Tu velocidad actual es 0\n",
      "0\n"
     ]
    }
   ],
   "source": [
    "# Atributos iniciales del vehículo\n",
    "\n",
    "vehiculo_generico = Vehiculo('Subaru','Forester',2020)\n",
    "\n",
    "print (vehiculo_generico.informacion())\n",
    "print( vehiculo_generico.encender())\n",
    "print(vehiculo_generico.acelerar(100))\n",
    "print(vehiculo_generico.frenar(30))\n",
    "print(vehiculo_generico.detener())\n",
    "print(vehiculo_generico.velocidad_actual)\n"
   ]
  },
  {
   "cell_type": "code",
   "execution_count": 145,
   "metadata": {},
   "outputs": [
    {
     "data": {
      "text/plain": [
       "'La marca del vehiculo es Subaru  El modelo del vehiculo es Forester . El año del vehiculo es 2020'"
      ]
     },
     "execution_count": 145,
     "metadata": {},
     "output_type": "execute_result"
    }
   ],
   "source": [
    "vehiculo_generico.informacion()"
   ]
  },
  {
   "cell_type": "code",
   "execution_count": 146,
   "metadata": {},
   "outputs": [
    {
     "data": {
      "text/plain": [
       "'Tu vehiculo ya esta encendido'"
      ]
     },
     "execution_count": 146,
     "metadata": {},
     "output_type": "execute_result"
    }
   ],
   "source": [
    "vehiculo_generico.encender()"
   ]
  },
  {
   "cell_type": "code",
   "execution_count": 147,
   "metadata": {},
   "outputs": [
    {
     "data": {
      "text/plain": [
       "True"
      ]
     },
     "execution_count": 147,
     "metadata": {},
     "output_type": "execute_result"
    }
   ],
   "source": [
    "vehiculo_generico.encendido"
   ]
  },
  {
   "cell_type": "code",
   "execution_count": 148,
   "metadata": {},
   "outputs": [
    {
     "data": {
      "text/plain": [
       "'Tu vehículo ya ha sido apagado'"
      ]
     },
     "execution_count": 148,
     "metadata": {},
     "output_type": "execute_result"
    }
   ],
   "source": [
    "vehiculo_generico.apagar()"
   ]
  },
  {
   "cell_type": "code",
   "execution_count": 149,
   "metadata": {},
   "outputs": [
    {
     "data": {
      "text/plain": [
       "0"
      ]
     },
     "execution_count": 149,
     "metadata": {},
     "output_type": "execute_result"
    }
   ],
   "source": [
    "vehiculo_generico.velocidad_actual"
   ]
  },
  {
   "cell_type": "code",
   "execution_count": 150,
   "metadata": {},
   "outputs": [
    {
     "data": {
      "text/plain": [
       "'Tu vehiculo ya esta encendido'"
      ]
     },
     "execution_count": 150,
     "metadata": {},
     "output_type": "execute_result"
    }
   ],
   "source": [
    "vehiculo_generico.encender()"
   ]
  },
  {
   "cell_type": "code",
   "execution_count": 179,
   "metadata": {},
   "outputs": [
    {
     "data": {
      "text/plain": [
       "'Tu vehiculo va a 45 km/h'"
      ]
     },
     "execution_count": 179,
     "metadata": {},
     "output_type": "execute_result"
    }
   ],
   "source": [
    "vehiculo_generico.acelerar(45)"
   ]
  },
  {
   "cell_type": "code",
   "execution_count": 182,
   "metadata": {},
   "outputs": [
    {
     "name": "stdout",
     "output_type": "stream",
     "text": [
      " Tu velocidad actual es35\n"
     ]
    },
    {
     "data": {
      "text/plain": [
       "' Tu velocidad actual es 35'"
      ]
     },
     "execution_count": 182,
     "metadata": {},
     "output_type": "execute_result"
    }
   ],
   "source": [
    "vehiculo_generico.detener()"
   ]
  },
  {
   "cell_type": "code",
   "execution_count": 153,
   "metadata": {},
   "outputs": [],
   "source": [
    "class Coches (Vehiculo):\n",
    "    pass\n",
    "\n",
    "todoterreno = Coches (\"Toyoya\",\"Land Cruiser\", 2023)\n",
    "\n"
   ]
  },
  {
   "cell_type": "code",
   "execution_count": 154,
   "metadata": {},
   "outputs": [],
   "source": [
    "todoterreno = Coches (\"Toyoya\",\"Land Cruiser\", 2023)"
   ]
  },
  {
   "cell_type": "code",
   "execution_count": 155,
   "metadata": {},
   "outputs": [],
   "source": [
    "class Coches (Vehiculo):\n",
    "\n",
    "     # creamos el constructor con el super()\n",
    "    def __init__(self,marca,modelo,año):\n",
    "        self.combustible = 'corriente'\n",
    "\n",
    "        super().__init__(marca,modelo,año)\n",
    "\n",
    "    def informacion(self):\n",
    "\n",
    "        return f\"La marca del vehiculo es {self.marca}  El modelo del vehiculo es {self.modelo} . El año del vehiculo es {self.año}. El combustible del vehiculo es {self.combustible}\""
   ]
  },
  {
   "cell_type": "code",
   "execution_count": 156,
   "metadata": {},
   "outputs": [],
   "source": [
    "todoterreno = Coches (\"Toyoya\",\"Land Cruiser\", 2023)"
   ]
  },
  {
   "cell_type": "code",
   "execution_count": 157,
   "metadata": {},
   "outputs": [],
   "source": [
    "todoterreno = Coches (\"Toyoya\",\"Land Cruiser\", 2023)"
   ]
  },
  {
   "cell_type": "code",
   "execution_count": 158,
   "metadata": {},
   "outputs": [
    {
     "data": {
      "text/plain": [
       "'corriente'"
      ]
     },
     "execution_count": 158,
     "metadata": {},
     "output_type": "execute_result"
    }
   ],
   "source": [
    "todoterreno.combustible"
   ]
  },
  {
   "cell_type": "code",
   "execution_count": 159,
   "metadata": {},
   "outputs": [
    {
     "data": {
      "text/plain": [
       "'La marca del vehiculo es Toyoya  El modelo del vehiculo es Land Cruiser . El año del vehiculo es 2023. El combustible del vehiculo es corriente'"
      ]
     },
     "execution_count": 159,
     "metadata": {},
     "output_type": "execute_result"
    }
   ],
   "source": [
    "todoterreno.informacion()"
   ]
  },
  {
   "cell_type": "markdown",
   "metadata": {},
   "source": [
    "OPCION CODIGO PREGUNTANDO A USUARIO CUANTO QUIERE ACELERAR"
   ]
  },
  {
   "cell_type": "code",
   "execution_count": 160,
   "metadata": {},
   "outputs": [
    {
     "ename": "SyntaxError",
     "evalue": "incomplete input (3661444045.py, line 49)",
     "output_type": "error",
     "traceback": [
      "\u001b[0;36m  Cell \u001b[0;32mIn[160], line 49\u001b[0;36m\u001b[0m\n\u001b[0;31m    \u001b[0m\n\u001b[0m    ^\u001b[0m\n\u001b[0;31mSyntaxError\u001b[0m\u001b[0;31m:\u001b[0m incomplete input\n"
     ]
    }
   ],
   "source": [
    "class Vehiculo:\n",
    "\n",
    "    def __init__(self,marca,modelo,año,velocidad_actual, encendido):\n",
    "\n",
    "        #atributo 1\n",
    "        self.marca = marca\n",
    "        \n",
    "\n",
    "         #atributo 2\n",
    "        self.modelo = modelo\n",
    "        \n",
    "\n",
    "         #atributo 3\n",
    "        self.año = año\n",
    "        \n",
    "        \n",
    "         #atributo 4\n",
    "        self.velocidad_actual = velocidad_actual\n",
    "        \n",
    "         #atributo 5\n",
    "        self.encendido = encendido\n",
    "    \n",
    "    def informacion(self):\n",
    "        return f\"La marca del vehiculo es {self.marca}. El modelo del vehiculo es {self.modelo} . El año del vehiculo es {self.año}\"\n",
    "\n",
    "    def encender(self):\n",
    "         if self.encendido == 'False': \n",
    "            self.encendido = 'True'\n",
    "            return 'Tu vehiculo ya esta encendido'\n",
    "         else: \n",
    "            return ' Tu vehiculo ya esta en funcionamiento'\n",
    "         \n",
    "    def apagar(self):\n",
    "        if self.encendido == 'True':\n",
    "            self.encendido = 'False'\n",
    "            self.velocidad_actual=0\n",
    "            return f'Tu vehículo ya ha sido apagado'\n",
    "\n",
    "    def acelerar(self,ve):\n",
    "\n",
    "        if self.encendido == 'True':\n",
    "           self.velocidad_actual = int(input(\"¿Cuánta velocidad quieres acelerar?\"))\n",
    "           return f'Tu vehiculo va a {self.velocidad_actual} km/h'\n",
    "        \n",
    "        else:\n",
    "            return 'Tu vehiculo se encuentra apagado, por lo que no se puede acelerar. Primero debes encenderlo'\n",
    "        \n",
    "    def frenar (self): \n",
    "        "
   ]
  }
 ],
 "metadata": {
  "kernelspec": {
   "display_name": "base",
   "language": "python",
   "name": "python3"
  },
  "language_info": {
   "codemirror_mode": {
    "name": "ipython",
    "version": 3
   },
   "file_extension": ".py",
   "mimetype": "text/x-python",
   "name": "python",
   "nbconvert_exporter": "python",
   "pygments_lexer": "ipython3",
   "version": "3.12.4"
  }
 },
 "nbformat": 4,
 "nbformat_minor": 2
}
