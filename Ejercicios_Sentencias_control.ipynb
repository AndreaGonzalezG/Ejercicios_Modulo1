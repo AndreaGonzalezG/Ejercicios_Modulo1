{
 "cells": [
  {
   "cell_type": "markdown",
   "metadata": {},
   "source": [
    "# Ejercicios  "
   ]
  },
  {
   "cell_type": "markdown",
   "metadata": {},
   "source": [
    "1. Crea las siguientes variables:\n",
    "\n",
    "  - `var1` sea un número con el valor `8`.\n",
    "\n",
    "  - `var2` sea un número con el valor `2`.\n",
    "\n",
    "  - `var3` sea un número con el valor `8`."
   ]
  },
  {
   "cell_type": "code",
   "execution_count": 6,
   "metadata": {},
   "outputs": [],
   "source": [
    "var1=8\n",
    "var2=2\n",
    "var3=8\n"
   ]
  },
  {
   "cell_type": "markdown",
   "metadata": {},
   "source": [
    "2. Comprueba si `var1` es mayor que 6, y si es así imprime `¡Es enorme!`.\n",
    "\n",
    "3. Comprueba si `var2` es mayor que 6, y si es así imprime `¡Es enorme también!`."
   ]
  },
  {
   "cell_type": "code",
   "execution_count": 4,
   "metadata": {},
   "outputs": [
    {
     "name": "stdout",
     "output_type": "stream",
     "text": [
      " Al comprobar si var1 es > a 6 el resultado es:\n",
      "¡Es enrome !\n",
      " Al comprobar si var2 es > a 6 el resultado es:\n"
     ]
    }
   ],
   "source": [
    "# comprobamos si var1 es mayor a 6\n",
    "\n",
    "print(' Al comprobar si var1 es > a 6 el resultado es:')\n",
    "if var1 > 6 :\n",
    "    print('¡Es enrome !')\n",
    "\n",
    "# comprobamos si var2 es mayor que 6\n",
    "print(' Al comprobar si var2 es > a 6 el resultado es:')\n",
    "if var2 > 6: \n",
    "    print(\"¡Es enorme también!\")"
   ]
  },
  {
   "cell_type": "markdown",
   "metadata": {},
   "source": [
    "5. Comprueba si `var1` es igual que `var3`, y si es así imprime `Son iguales.`.\n",
    "\n",
    "6. Comprueba si `var1` es igual que `var2`, y si es así imprime `Son iguales.`"
   ]
  },
  {
   "cell_type": "code",
   "execution_count": 8,
   "metadata": {},
   "outputs": [
    {
     "name": "stdout",
     "output_type": "stream",
     "text": [
      "La comparación  de var1 igual a var3, nos arroja como resultado: \n",
      " Son iguales\n",
      "La comparación  de var1 igual a var2, nos arroja como resultado: \n"
     ]
    }
   ],
   "source": [
    "# comprobamos si  var1 es igual a var3 con ==\n",
    "print (\"La comparación  de var1 igual a var3, nos arroja como resultado: \")\n",
    "if var1 == var3 : \n",
    "    print(\" Son iguales\")\n",
    "\n",
    "\n",
    "# comprobamos si  var1 es igual a var2 con ==\n",
    "print (\"La comparación  de var1 igual a var2, nos arroja como resultado: \")\n",
    "if var1== var2 : \n",
    "    print(' Son iguales')\n"
   ]
  },
  {
   "cell_type": "markdown",
   "metadata": {},
   "source": [
    "7. Comprueba si `var1` es mayor o igual que `var2`, y si es así calcula la diferencia entre `var1` y `var2`, guardala en la variable `dif`, e imprime `'La diferencia es',dif`. "
   ]
  },
  {
   "cell_type": "code",
   "execution_count": 10,
   "metadata": {},
   "outputs": [
    {
     "name": "stdout",
     "output_type": "stream",
     "text": [
      " La diferencia es 6\n"
     ]
    }
   ],
   "source": [
    "# comprobamos si var1 >= var2\n",
    "\n",
    "if var1 >= var2 :\n",
    "    dif=var1-var2\n",
    "print (' La diferencia es',dif)\n",
    "\n"
   ]
  },
  {
   "cell_type": "markdown",
   "metadata": {},
   "source": [
    "8. Comprueba si `var1` es mayor que 6, y si es así imprime `¡Es enorme!`. Si no es así imprime `Es chiquitín.`.\n",
    "\n",
    "9. Comprueba si `var2` es mayor que 6, y si es así imprime `¡Es enorme también!`. Si no es así imprime `Es chiquitín también.`."
   ]
  },
  {
   "cell_type": "code",
   "execution_count": 16,
   "metadata": {},
   "outputs": [
    {
     "name": "stdout",
     "output_type": "stream",
     "text": [
      "comprobamos si var1 es > a 6, si lo es: ¡Es enorme!, si no: !Es chiquitín¡\n",
      "¡Es enorme!\n",
      "comprobamos si var2 es > a 6, si lo es: ¡Es enorme también!, si no: !Es chiquitín también¡\n",
      " Es chiquitín también\n"
     ]
    }
   ],
   "source": [
    "# comprobmos si var1 es mayor que 6, utilizando if and else\n",
    "\n",
    "print ('comprobamos si var1 es > a 6, si lo es: ¡Es enorme!, si no: !Es chiquitín¡' )\n",
    "if var1> 6:\n",
    "    print('¡Es enorme!')\n",
    "else:\n",
    "    print(' Es chiquitín')\n",
    "\n",
    "\n",
    "# Comprobamos si var2 es > 6\n",
    "\n",
    "print ('comprobamos si var2 es > a 6, si lo es: ¡Es enorme también!, si no: !Es chiquitín también¡' )\n",
    "if var2> 6:\n",
    "    print('¡Es enorme también!')\n",
    "else:\n",
    "    print(' Es chiquitín también')"
   ]
  },
  {
   "cell_type": "markdown",
   "metadata": {},
   "source": [
    "10. Comprueba si `var1` es igual a `var3`, y si es así imprime `Son iguales.` Si no es así imprime `Son distintos.`"
   ]
  },
  {
   "cell_type": "code",
   "execution_count": 18,
   "metadata": {},
   "outputs": [
    {
     "name": "stdout",
     "output_type": "stream",
     "text": [
      " Var 1 es = 8\n",
      " Var 3 es = 8\n",
      "Son iguales\n"
     ]
    }
   ],
   "source": [
    "# comprobamos si var1 == var3\n",
    "\n",
    "print (' Var 1 es =', var1)\n",
    "print (' Var 3 es =', var3)\n",
    "\n",
    "\n",
    "if var1 == var3:\n",
    "    print('Son iguales')\n",
    "else: \n",
    "    print('Son distintos')"
   ]
  },
  {
   "cell_type": "markdown",
   "metadata": {},
   "source": [
    "\n",
    "11. Escribe un programa para una empresa que tiene salas de juegos para todas las edades y quiere calcular de forma automática el precio que debe cobrar a sus clientes por entrar. El programa debe preguntar al usuario:\n",
    "\n",
    "    - La edad del cliente. \n",
    "    - Las condiciones que tendremos que chequear: \n",
    "\n",
    "      - Si el cliente es menor de 4 años puede entrar gratis, \n",
    "\n",
    "      - Si tiene entre 4 y 18 años debe pagar 5€ y \n",
    "\n",
    "      - Si es mayor de 18 años, 10€."
   ]
  },
  {
   "cell_type": "code",
   "execution_count": 36,
   "metadata": {},
   "outputs": [
    {
     "name": "stdout",
     "output_type": "stream",
     "text": [
      " La edad del clientes es  31\n"
     ]
    }
   ],
   "source": [
    "# 1. Preguntar edad a cliente, se debe poner el  valor de input con integer int para poder comparar con números\n",
    "edad_cliente = int(input('Escribe tu edad:'))\n",
    "\n",
    "print (' La edad del clientes es ', edad_cliente)"
   ]
  },
  {
   "cell_type": "code",
   "execution_count": 37,
   "metadata": {},
   "outputs": [
    {
     "name": "stdout",
     "output_type": "stream",
     "text": [
      "Debes pagar, 10€\n"
     ]
    }
   ],
   "source": [
    "# 2. Condiciones\n",
    "if edad_cliente < 4:\n",
    "    print('Puedes entrar gratis')\n",
    "elif 4 <= edad_cliente <= 18:\n",
    "    print(' Debes pagar 5€')\n",
    "elif edad_cliente > 18:\n",
    "    print('Debes pagar, 10€')\n"
   ]
  },
  {
   "cell_type": "markdown",
   "metadata": {},
   "source": [
    "12. Inicia la varible `ahorros` con un valor de `5`. Crea un bucle while que mientras los ahorros sean igual o menor que `20` imprima por pantalla la cantidad de ahorros que tenemos, y añádele `5` más. Cuando la variable ahorros supere el valor de 20 el bucle deberá parar. "
   ]
  },
  {
   "cell_type": "code",
   "execution_count": 105,
   "metadata": {},
   "outputs": [
    {
     "name": "stdout",
     "output_type": "stream",
     "text": [
      " Inicialmente temos  de ahorros: 5\n",
      "La cantidad de ahorros que tenemos 5\n",
      "La cantidad de ahorros que tenemos 10\n",
      "La cantidad de ahorros que tenemos 15\n",
      "La cantidad de ahorros que tenemos 20\n"
     ]
    }
   ],
   "source": [
    "# Creamos varible ahorros\n",
    "\n",
    "ahorros=5\n",
    "print(' Inicialmente temos  de ahorros:', ahorros)\n",
    "\n",
    "\n",
    "# Creamos el bucle directamente\n",
    "\n",
    "while ahorros <= 20:\n",
    "        print ('La cantidad de ahorros que tenemos', ahorros)\n",
    "        ahorros += 5 \n",
    "    \n",
    "\n",
    "\n"
   ]
  },
  {
   "cell_type": "code",
   "execution_count": 106,
   "metadata": {},
   "outputs": [],
   "source": [
    "# No  me da lo mismo, por qué?\n",
    "\n",
    "Limite_ahorros= ahorros <= 20\n",
    "\n",
    "\n",
    "while ahorros == Limite_ahorros:\n",
    "        print ('La cantidad de ahorros que tenemos', ahorros)\n",
    "        ahorros += 5 "
   ]
  },
  {
   "cell_type": "markdown",
   "metadata": {},
   "source": [
    "13. Escribe un programa que convierta grados Celsius a grados Fahrenheit o viceversa, según la elección del usuario. Para eso tendrás que preguntar: \n",
    "\n",
    "  - Desde que unidades va a convertir la temperatura, Celsius o Fahrenheit. \n",
    "\n",
    "  - Cuál es valor de la temperatura que quiere convertir. "
   ]
  },
  {
   "cell_type": "code",
   "execution_count": 125,
   "metadata": {},
   "outputs": [
    {
     "name": "stdout",
     "output_type": "stream",
     "text": [
      " El valor de la temperatura es  45\n",
      " La unidad seleccionada es  Celsius\n"
     ]
    }
   ],
   "source": [
    "# 1. Preguntar unidades para convertir temperatura \n",
    "\n",
    "Valor_grado_usuario = int(input('¿Cuál es valor de la temperatura que quieres convertir?'))\n",
    "print (' El valor de la temperatura es ', Valor_grado_usuario)\n",
    "\n",
    "Grados_usuario = str(input('Escribe la unidad de temperatura que quieres convertir, ¿Celsius o Fahrenheit?'))\n",
    "print (' La unidad seleccionada es ', Grados_usuario)\n",
    "\n",
    "\n",
    "# CondiciGrados centígrados = (grados Fahrenheit − 32) × 5/9. Grados Fahrenheit = (grados centígrados × 9/5) +32."
   ]
  },
  {
   "cell_type": "code",
   "execution_count": 126,
   "metadata": {},
   "outputs": [
    {
     "name": "stdout",
     "output_type": "stream",
     "text": [
      "45  Celsius, es igual a:  113.0  Fahrenheit\n"
     ]
    }
   ],
   "source": [
    "# 2. Definir formula para pasar de celsius a fahrenheit\n",
    "cel_fah = (Valor_grado_usuario * float(9/5) + 32)\n",
    "\n",
    "# 3. Definir formula para pasar de fahrenheit a celsius  \n",
    "fah_cel = (Valor_grado_usuario -32) * float(5/9)\n",
    "\n",
    "\n",
    "#4. Condicional si la unidad es celsius\n",
    "\n",
    "Grados_usuario1 = 'Celsius' or 'celsius'\n",
    "\n",
    "if Grados_usuario == Grados_usuario1:\n",
    "    print ( Valor_grado_usuario ,' Celsius, es igual a: ', cel_fah, ' Fahrenheit')\n",
    "\n",
    "else: \n",
    "    print(Valor_grado_usuario, 'Fahrenheit, es igual a: ', fah_cel, ' Celsius')\n",
    "\n",
    "\n"
   ]
  },
  {
   "cell_type": "markdown",
   "metadata": {},
   "source": [
    "14.  Crea un programa que calcule el impuesto sobre la renta de una persona basado en su ingreso anual y su estado civil (soltero o casado). Para eso deberás: \n",
    "\n",
    "  - Solicitar al usuario su ingreso anual.\n",
    "\n",
    "  - Preguntar al usuario su estado civil, permitiendo dos opciones: \"soltero\" (S) o \"casado\" (C).\n",
    "\n",
    "  - Calcular el impuesto sobre la renta utilizando las siguientes reglas:\n",
    "\n",
    "    - Si el estado civil es \"soltero\" (S):\n",
    "\n",
    "      - Si el ingreso anual es menor o igual a $9,875, el impuesto es el 10% del ingreso anual.\n",
    "\n",
    "      - Si el ingreso anual está entre $9,876 y $40,125, el impuesto es el 10% de los primeros $9,875 más el 12% de la cantidad que excede los $9,875.\n",
    "     \n",
    "\n",
    "    - Si el estado civil es \"casado\" (C):\n",
    "    \n",
    "      - Si el ingreso anual es menor o igual a $19,850, el impuesto es el 10% del ingreso anual.\n",
    "\n",
    "      - Si el ingreso anual está entre $19,851 y $80,250, el impuesto es el 10% de los primeros $19,850 más el 12% de la cantidad que excede los $19,850."
   ]
  },
  {
   "cell_type": "code",
   "execution_count": 22,
   "metadata": {},
   "outputs": [
    {
     "name": "stdout",
     "output_type": "stream",
     "text": [
      " El ingreso anual es:  50000\n",
      " El estado civil del usuario es:  S\n"
     ]
    }
   ],
   "source": [
    "# 1. Preguntar información personal a usuario \n",
    "\n",
    "Ingreso_anual = int(input('¿Cuál es tu ingreso anual?. Ingresa el valor sin coma o punto'))\n",
    "print (' El ingreso anual es: ', Ingreso_anual)\n",
    "\n",
    "Estado_civil = str(input('Escribe cual es tu estado civil. Puedes escribir la letra correspondiente a la opción: soltero ( S ) o casaoo (C)'))\n",
    "print (' El estado civil del usuario es: ', Estado_civil)"
   ]
  },
  {
   "cell_type": "code",
   "execution_count": 27,
   "metadata": {},
   "outputs": [
    {
     "name": "stdout",
     "output_type": "stream",
     "text": [
      "El usuario tiene ingresos anuales de:  50000  y su estado civil es  S\n",
      "El impuesto correspondiente a sus ingresos es del \"10%\" de los primeros $9,875 más el \"12%\" de la cantidad que excede los $9,875\n",
      "Por lo que el valor a pagar por impuesto de renta es:  5802.5  euros\n"
     ]
    }
   ],
   "source": [
    "# Calculamos impuesto sobre la renta\n",
    "\n",
    "print ( 'El usuario tiene ingresos anuales de: ', Ingreso_anual, ' y su estado civil es ', Estado_civil)\n",
    "# si es soltero\n",
    "\n",
    "if Estado_civil == 'S' :\n",
    "   #Si cumpple con ingresos mayores a 9875\n",
    "      if Ingreso_anual<= 9875:\n",
    "            print ('El impuesto correspondiente a sus ingresos anuales  es del  10\"%\" del ingreso anual') \n",
    "            print(' Por lo que el valor a pagar por impuesto de renta es: ', Ingreso_anual* 0.10, ' euros')\n",
    "      else:  \n",
    "            print ('El impuesto correspondiente a sus ingresos es del \"10%\" de los primeros $9,875 más el \"12%\" de la cantidad que excede los $9,875' )\n",
    "            excedente= (Ingreso_anual-9875)*0.12\n",
    "            impuesto = 9875*0.10\n",
    "            print ('Por lo que el valor a pagar por impuesto de renta es: ', excedente + impuesto, ' euros' )\n",
    "      \n",
    "else:      \n",
    "# Si es casado\\\\ \n",
    "      if Ingreso_anual<= 19850 :\n",
    "        print ('El impuesto correspondiente a sus ingresos anuales  es del  10\"%\" del ingreso anual' )\n",
    "        print(' Por lo que el valor a pagar por impuesto de renta es: ', Ingreso_anual* 0.10, ' euros')\n",
    "      else: \n",
    "            excedente1= (Ingreso_anual-19850)*0.12\n",
    "            impuesto2 = 19850*0.10\n",
    "            print ('El impuesto correspondiente a sus ingresos es del 10\"%\" de los primeros $19,850 más el 12\"%\" de la cantidad que excede los $19,850' )\n",
    "            print ('Por lo que el valor a pagar por impuesto de renta es: ', excedente1 + impuesto2, ' euros' )\n",
    "\n",
    "      "
   ]
  },
  {
   "cell_type": "code",
   "execution_count": 133,
   "metadata": {},
   "outputs": [
    {
     "name": "stdout",
     "output_type": "stream",
     "text": [
      "1215.0\n"
     ]
    }
   ],
   "source": [
    "excedente= (Ingreso_anual-9875 )*0.12\n",
    "print (excedente)"
   ]
  }
 ],
 "metadata": {
  "kernelspec": {
   "display_name": "base",
   "language": "python",
   "name": "python3"
  },
  "language_info": {
   "codemirror_mode": {
    "name": "ipython",
    "version": 3
   },
   "file_extension": ".py",
   "mimetype": "text/x-python",
   "name": "python",
   "nbconvert_exporter": "python",
   "pygments_lexer": "ipython3",
   "version": "3.12.4"
  }
 },
 "nbformat": 4,
 "nbformat_minor": 2
}
